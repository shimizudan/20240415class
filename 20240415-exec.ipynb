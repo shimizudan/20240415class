{
 "cells": [
  {
   "cell_type": "markdown",
   "metadata": {},
   "source": [
    "### 練習1\n",
    "\n",
    "次の数は有理数の集合に属するか否か。\n",
    "\n",
    "(1) $3$ (2) $\\sqrt2$ (3) $-\\dfrac32$"
   ]
  },
  {
   "cell_type": "code",
   "execution_count": 20,
   "metadata": {},
   "outputs": [
    {
     "data": {
      "text/plain": [
       "Rational{Int64}"
      ]
     },
     "metadata": {},
     "output_type": "display_data"
    }
   ],
   "source": [
    "typeof(3//1)"
   ]
  },
  {
   "cell_type": "code",
   "execution_count": 23,
   "metadata": {},
   "outputs": [
    {
     "data": {
      "text/plain": [
       "Float64"
      ]
     },
     "metadata": {},
     "output_type": "display_data"
    }
   ],
   "source": [
    "typeof(sqrt(2))"
   ]
  },
  {
   "cell_type": "code",
   "execution_count": 43,
   "metadata": {},
   "outputs": [
    {
     "data": {
      "text/plain": [
       "Rational{Int64}"
      ]
     },
     "metadata": {},
     "output_type": "display_data"
    }
   ],
   "source": [
    "typeof(-3//2)"
   ]
  },
  {
   "cell_type": "markdown",
   "metadata": {},
   "source": [
    "### 練習2\n",
    "次の集合を、 要素を書き並べて表せ。\n",
    "\n",
    "(1) 18の正の約数全体の集合$F$\n",
    "\n",
    "(2) $G = \\{ x | x \\text{は10以上15以下の偶数}\\}$\n",
    "\n",
    "(3) $H = \\{2n+1 | n=0,1,2,3,\\cdots\\cdots\\}$"
   ]
  },
  {
   "cell_type": "code",
   "execution_count": 15,
   "metadata": {},
   "outputs": [
    {
     "data": {
      "text/plain": [
       "Set{Int64} with 6 elements:\n",
       "  6\n",
       "  2\n",
       "  18\n",
       "  9\n",
       "  3\n",
       "  1"
      ]
     },
     "metadata": {},
     "output_type": "display_data"
    }
   ],
   "source": [
    "function divisor_list(n::Int64)\n",
    "    F = Int64.([]) |> Set\n",
    "    for i = 1:n\n",
    "        if mod(n,i) == 0\n",
    "            push!(F,i)\n",
    "        end\n",
    "    end\n",
    "    F\n",
    "end\n",
    "\n",
    "F = divisor_list(18)\n"
   ]
  },
  {
   "cell_type": "code",
   "execution_count": 7,
   "metadata": {},
   "outputs": [
    {
     "data": {
      "text/plain": [
       "Set{Int64} with 3 elements:\n",
       "  10\n",
       "  12\n",
       "  14"
      ]
     },
     "metadata": {},
     "output_type": "display_data"
    }
   ],
   "source": [
    "G = Set([i for i = 10:2:15])"
   ]
  },
  {
   "cell_type": "code",
   "execution_count": 19,
   "metadata": {},
   "outputs": [
    {
     "data": {
      "text/plain": [
       "Set{Int64} with 6 elements:\n",
       "  5\n",
       "  7\n",
       "  11\n",
       "  9\n",
       "  3\n",
       "  1"
      ]
     },
     "metadata": {},
     "output_type": "display_data"
    }
   ],
   "source": [
    "H(n::Int64) =  [2i+1 for i=0:n] |> Set\n",
    "\n",
    "H(5)"
   ]
  },
  {
   "cell_type": "markdown",
   "metadata": {},
   "source": [
    "### 練習3\n",
    "\n",
    "集合$A=\\{1,2, 4, 8\\}$と、次の集合の包含関係を調べよ。\n",
    "\n",
    "(1) $B = \\{x | x \\text{は4の正の約数} \\}$\n",
    "\n",
    "(2) $C = \\{ x | x \\text{は8の正の約数}\\}$\n",
    "\n",
    "(3) $D= \\{x | x \\text{は24の正の約数}\\}$ "
   ]
  },
  {
   "cell_type": "code",
   "execution_count": 24,
   "metadata": {},
   "outputs": [],
   "source": [
    "A = [1,2,4,8]\n",
    "\n",
    "B = divisor_list(4)\n",
    "\n",
    "C = divisor_list(8)\n",
    "\n",
    "D = divisor_list(24);\n",
    "\n"
   ]
  },
  {
   "cell_type": "code",
   "execution_count": 26,
   "metadata": {},
   "outputs": [
    {
     "data": {
      "text/plain": [
       "(false, false, true)"
      ]
     },
     "metadata": {},
     "output_type": "display_data"
    }
   ],
   "source": [
    "A ⊆ B , A == B , A ⊇ B"
   ]
  },
  {
   "cell_type": "code",
   "execution_count": 27,
   "metadata": {},
   "outputs": [
    {
     "data": {
      "text/plain": [
       "(true, false, true)"
      ]
     },
     "metadata": {},
     "output_type": "display_data"
    }
   ],
   "source": [
    "A ⊆ C , A == C , A ⊇ C"
   ]
  },
  {
   "cell_type": "code",
   "execution_count": 28,
   "metadata": {},
   "outputs": [
    {
     "data": {
      "text/plain": [
       "(true, false, false)"
      ]
     },
     "metadata": {},
     "output_type": "display_data"
    }
   ],
   "source": [
    "A ⊆ D , A == D , A ⊇ D"
   ]
  },
  {
   "cell_type": "markdown",
   "metadata": {},
   "source": [
    "### 練習4\n",
    "\n",
    "集合$\\{1, 2, 3\\}$の部分集合をすべて求めよ。"
   ]
  },
  {
   "cell_type": "code",
   "execution_count": 29,
   "metadata": {},
   "outputs": [
    {
     "data": {
      "text/plain": [
       "8-element Vector{Vector{Int64}}:\n",
       " []\n",
       " [1]\n",
       " [2]\n",
       " [3]\n",
       " [1, 2]\n",
       " [1, 3]\n",
       " [2, 3]\n",
       " [1, 2, 3]"
      ]
     },
     "metadata": {},
     "output_type": "display_data"
    }
   ],
   "source": [
    "using Combinatorics\n",
    "powerset([1,2,3]) |>collect "
   ]
  },
  {
   "cell_type": "markdown",
   "metadata": {},
   "source": [
    "### 練習5\n",
    "次の2つの集合$A$、$B$について、$A\\cap B$と$A\\cup B$を求めよ。 \n",
    "\n",
    "$A=\\{1, 3, 5, 7, 9, 11, 13, 15\\}$, $B=\\{5, 10, 15\\}$"
   ]
  },
  {
   "cell_type": "code",
   "execution_count": 31,
   "metadata": {},
   "outputs": [
    {
     "data": {
      "text/plain": [
       "([5, 15], [1, 3, 5, 7, 9, 11, 13, 15, 10])"
      ]
     },
     "metadata": {},
     "output_type": "display_data"
    }
   ],
   "source": [
    "A = [1, 3, 5, 7, 9, 11, 13, 15] ;\n",
    "B = [5, 10, 15] ;\n",
    "\n",
    "A ∩ B , A ∪ B\n"
   ]
  },
  {
   "cell_type": "markdown",
   "metadata": {},
   "source": [
    "### 練習6\n",
    "$A = \\{1,2,3,4,5,6,7\\}$，\n",
    "$B = \\{1,2,3,4,6,12\\}$，\n",
    "$C = \\{1,2,3,6,9,18\\}$について、$A\\cap B\\cap C$と$A\\cup B\\cup C$を求めよ。"
   ]
  },
  {
   "cell_type": "code",
   "execution_count": 34,
   "metadata": {},
   "outputs": [
    {
     "data": {
      "text/plain": [
       "([1, 2, 3, 6], [1, 2, 3, 4, 5, 6, 7, 12, 9, 18])"
      ]
     },
     "metadata": {},
     "output_type": "display_data"
    }
   ],
   "source": [
    "A = [1,2,3,4,5,6,7];\n",
    "B = [1,2,3,4,6,12];\n",
    "C = [1,2,3,6,9,18];\n",
    "\n",
    "A ∩ B ∩ C , A ∪ B ∪ C\n"
   ]
  },
  {
   "cell_type": "code",
   "execution_count": 51,
   "metadata": {},
   "outputs": [
    {
     "data": {
      "text/plain": [
       "Set{Int64} with 2 elements:\n",
       "  2\n",
       "  3"
      ]
     },
     "metadata": {},
     "output_type": "display_data"
    }
   ],
   "source": [
    "F = Set()\n",
    "using Primes\n",
    "\n",
    "factor(18)"
   ]
  }
 ],
 "metadata": {
  "kernelspec": {
   "display_name": "Julia 1.10.2",
   "language": "julia",
   "name": "julia-1.10"
  },
  "language_info": {
   "file_extension": ".jl",
   "mimetype": "application/julia",
   "name": "julia",
   "version": "1.10.2"
  }
 },
 "nbformat": 4,
 "nbformat_minor": 2
}
