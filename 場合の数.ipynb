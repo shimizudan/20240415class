{
 "cells": [
  {
   "cell_type": "markdown",
   "metadata": {},
   "source": [
    "## 場合の数\n",
    "\n",
    "### 練習1\n",
    "1桁の自然数のうち，2の倍数全体の集合を$A$，3の倍数全体の集合を$B$とする。$n(A)$，$n(B)$を求めよ。"
   ]
  },
  {
   "cell_type": "code",
   "execution_count": 7,
   "metadata": {},
   "outputs": [
    {
     "data": {
      "text/plain": [
       "4-element Vector{Int64}:\n",
       " 2\n",
       " 4\n",
       " 6\n",
       " 8"
      ]
     },
     "metadata": {},
     "output_type": "display_data"
    }
   ],
   "source": [
    "A = [i for i = 2:2:9] "
   ]
  },
  {
   "cell_type": "code",
   "execution_count": 2,
   "metadata": {},
   "outputs": [
    {
     "data": {
      "text/plain": [
       "3-element Vector{Int64}:\n",
       " 3\n",
       " 6\n",
       " 9"
      ]
     },
     "metadata": {},
     "output_type": "display_data"
    }
   ],
   "source": [
    "B = [i for i = 3:3:9]"
   ]
  },
  {
   "cell_type": "code",
   "execution_count": 3,
   "metadata": {},
   "outputs": [
    {
     "name": "stdout",
     "output_type": "stream",
     "text": [
      "n(A)=4\n",
      "n(B)=3\n"
     ]
    }
   ],
   "source": [
    "println(\"n(A)=\",length(A))\n",
    "println(\"n(B)=\",length(B))\n"
   ]
  },
  {
   "cell_type": "markdown",
   "metadata": {},
   "source": [
    "\n",
    "### 練習2\n",
    "1から100までの整数のうち、6と8の少なくとも一方で割り切れる数は何個あるか。"
   ]
  },
  {
   "cell_type": "code",
   "execution_count": 13,
   "metadata": {},
   "outputs": [
    {
     "name": "stdout",
     "output_type": "stream",
     "text": [
      "A=[6, 12, 18, 24, 30, 36, 42, 48, 54, 60, 66, 72, 78, 84, 90, 96]\n",
      "B=[8, 16, 24, 32, 40, 48, 56, 64, 72, 80, 88, 96]\n",
      "n(A∪B)=24\n"
     ]
    }
   ],
   "source": [
    "A = [i for i=6:6:100] # Aは1から100までの整数のうち、6で割り切れる数全体の集合\n",
    "println(\"A=\",A)\n",
    "\n",
    "B = [i for i=8:8:100] # Aは1から100までの整数のうち、8で割り切れる数全体の集合\n",
    "println(\"B=\",B)\n",
    "\n",
    "println(\"n(A∪B)=\",length(A∪B))"
   ]
  },
  {
   "cell_type": "code",
   "execution_count": null,
   "metadata": {},
   "outputs": [],
   "source": []
  }
 ],
 "metadata": {
  "kernelspec": {
   "display_name": "Julia 1.10.2",
   "language": "julia",
   "name": "julia-1.10"
  },
  "language_info": {
   "file_extension": ".jl",
   "mimetype": "application/julia",
   "name": "julia",
   "version": "1.10.2"
  }
 },
 "nbformat": 4,
 "nbformat_minor": 2
}
